{
 "cells": [
  {
   "cell_type": "markdown",
   "id": "870f8378-cc4c-48a5-bf69-088fe880f869",
   "metadata": {},
   "source": [
    "Many Values to Multiple Variables"
   ]
  },
  {
   "cell_type": "code",
   "execution_count": 3,
   "id": "c7959843-b6cb-498b-81d3-cb86fc1c2937",
   "metadata": {},
   "outputs": [
    {
     "name": "stdout",
     "output_type": "stream",
     "text": [
      "Orange\n",
      "Banana\n",
      "Cherry\n"
     ]
    }
   ],
   "source": [
    "x, y, z = \"Orange\", \"Banana\", \"Cherry\"\n",
    "print(x)\n",
    "print(y)\n",
    "print(z)"
   ]
  },
  {
   "cell_type": "markdown",
   "id": "a4a74cfc-5b96-4d4d-ab31-3bba95cf37c4",
   "metadata": {},
   "source": [
    "One Value to Multiple Variables"
   ]
  },
  {
   "cell_type": "code",
   "execution_count": 6,
   "id": "cbeeaf43-7c42-4b70-aeeb-d6691406d30d",
   "metadata": {},
   "outputs": [
    {
     "name": "stdout",
     "output_type": "stream",
     "text": [
      "Orange\n",
      "Orange\n",
      "Orange\n"
     ]
    }
   ],
   "source": [
    "x = y = z = \"Orange\"\n",
    "print(x)\n",
    "print(y)\n",
    "print(z)"
   ]
  },
  {
   "cell_type": "markdown",
   "id": "cb179c37-3324-41a9-b01b-bae135d64edc",
   "metadata": {},
   "source": [
    "Unpack a Collection"
   ]
  },
  {
   "cell_type": "code",
   "execution_count": 9,
   "id": "ec27cd63-f88f-4b87-a8d6-94d35e751ff6",
   "metadata": {},
   "outputs": [
    {
     "name": "stdout",
     "output_type": "stream",
     "text": [
      "apple\n",
      "banana\n",
      "cherry\n"
     ]
    }
   ],
   "source": [
    "fruits = [\"apple\", \"banana\", \"cherry\"]\n",
    "x, y, z = fruits\n",
    "print(x)\n",
    "print(y)\n",
    "print(z)"
   ]
  }
 ],
 "metadata": {
  "kernelspec": {
   "display_name": "Python [conda env:base] *",
   "language": "python",
   "name": "conda-base-py"
  },
  "language_info": {
   "codemirror_mode": {
    "name": "ipython",
    "version": 3
   },
   "file_extension": ".py",
   "mimetype": "text/x-python",
   "name": "python",
   "nbconvert_exporter": "python",
   "pygments_lexer": "ipython3",
   "version": "3.12.7"
  }
 },
 "nbformat": 4,
 "nbformat_minor": 5
}
